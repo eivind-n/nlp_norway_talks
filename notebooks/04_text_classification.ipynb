{
 "cells": [
  {
   "cell_type": "markdown",
   "id": "sweet-welding",
   "metadata": {},
   "source": [
    "# Text classification\n",
    "\n",
    "Refer to script train.py for model setup."
   ]
  },
  {
   "cell_type": "markdown",
   "id": "affiliated-marble",
   "metadata": {},
   "source": [
    "Result when trained on N=10000 cases:\n",
    "\n",
    "                                         precision    recall  f1-score   support\n",
    "\n",
    "                        Arbeiderpartiet       0.45      0.56      0.50       403\n",
    "                     Fremskrittspartiet       0.45      0.38      0.42       248\n",
    "                                  Høyre       0.43      0.32      0.37       239\n",
    "                   Kristelig Folkeparti       0.48      0.70      0.57       407\n",
    "                          Senterpartiet       0.46      0.30      0.37       218\n",
    "              Sosialistisk Venstreparti       0.55      0.40      0.46       181\n",
    "Tverrpolitisk Folkevalgte (Kystpartiet)       0.38      0.12      0.18        26\n",
    "                                Venstre       0.53      0.39      0.45       180\n",
    "\n",
    "                               accuracy                           0.47      1902\n",
    "                              macro avg       0.47      0.40      0.41      1902\n",
    "                           weighted avg       0.47      0.47      0.46      1902\n"
   ]
  },
  {
   "cell_type": "markdown",
   "id": "pacific-government",
   "metadata": {},
   "source": [
    "Result when traind on all complete cases:\n",
    "\n",
    "                                         precision    recall  f1-score   support\n",
    "\n",
    "                        Arbeiderpartiet       0.41      0.68      0.51     10311\n",
    "                     Fremskrittspartiet       0.50      0.54      0.52      7504\n",
    "                                  Høyre       0.51      0.44      0.47      8102\n",
    "                   Kristelig Folkeparti       0.62      0.37      0.46      4832\n",
    "                            Kystpartiet       0.55      0.13      0.22       119\n",
    "                 Miljøpartiet De Grønne       0.85      0.29      0.43       118\n",
    "                          Senterpartiet       0.60      0.46      0.52      4516\n",
    "              Sosialistisk Venstreparti       0.60      0.36      0.45      4885\n",
    "Tverrpolitisk Folkevalgte (Kystpartiet)       0.58      0.17      0.26       106\n",
    "                                Venstre       0.64      0.35      0.46      2828\n",
    "\n",
    "                               accuracy                           0.49     43321\n",
    "                              macro avg       0.58      0.38      0.43     43321\n",
    "                           weighted avg       0.52      0.49      0.49     43321"
   ]
  }
 ],
 "metadata": {
  "kernelspec": {
   "display_name": "Python 3",
   "language": "python",
   "name": "python3"
  },
  "language_info": {
   "codemirror_mode": {
    "name": "ipython",
    "version": 3
   },
   "file_extension": ".py",
   "mimetype": "text/x-python",
   "name": "python",
   "nbconvert_exporter": "python",
   "pygments_lexer": "ipython3",
   "version": "3.8.5"
  }
 },
 "nbformat": 4,
 "nbformat_minor": 5
}
